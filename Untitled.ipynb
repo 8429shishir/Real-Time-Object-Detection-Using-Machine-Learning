{
 "cells": [
  {
   "cell_type": "code",
   "execution_count": null,
   "id": "3dcc15cd-d035-44c1-a07c-6444e4ec912c",
   "metadata": {},
   "outputs": [
    {
     "name": "stdout",
     "output_type": "stream",
     "text": [
      "\n",
      "image 1/1 c:\\Users\\8429s\\object_detection_project\\sample.jpg: 480x640 24 cars, 126.0ms\n",
      "Speed: 6.4ms preprocess, 126.0ms inference, 16.8ms postprocess per image at shape (1, 3, 480, 640)\n"
     ]
    },
    {
     "ename": "",
     "evalue": "",
     "output_type": "error",
     "traceback": [
      "\u001b[1;31mThe Kernel crashed while executing code in the current cell or a previous cell. \n",
      "\u001b[1;31mPlease review the code in the cell(s) to identify a possible cause of the failure. \n",
      "\u001b[1;31mClick <a href='https://aka.ms/vscodeJupyterKernelCrash'>here</a> for more info. \n",
      "\u001b[1;31mView Jupyter <a href='command:jupyter.viewOutput'>log</a> for further details."
     ]
    }
   ],
   "source": [
    "from ultralytics import YOLO\n",
    "\n",
    "# Load a pretrained YOLOv8 model\n",
    "model = YOLO(\"yolov8n.pt\")  # 'n' means nano model (lightweight)\n",
    "\n",
    "# Run inference on an image\n",
    "results = model(\"sample.jpg\", show=True)  # Replace 'sample.jpg' with your image path\n"
   ]
  },
  {
   "cell_type": "code",
   "execution_count": null,
   "id": "95f1409f-43ff-44cf-923f-0e7d6507bf79",
   "metadata": {},
   "outputs": [],
   "source": []
  }
 ],
 "metadata": {
  "kernelspec": {
   "display_name": "obj_detection",
   "language": "python",
   "name": "python3"
  },
  "language_info": {
   "codemirror_mode": {
    "name": "ipython",
    "version": 3
   },
   "file_extension": ".py",
   "mimetype": "text/x-python",
   "name": "python",
   "nbconvert_exporter": "python",
   "pygments_lexer": "ipython3",
   "version": "3.10.16"
  }
 },
 "nbformat": 4,
 "nbformat_minor": 5
}
